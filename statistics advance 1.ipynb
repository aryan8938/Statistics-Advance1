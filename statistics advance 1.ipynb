{
  "nbformat": 4,
  "nbformat_minor": 0,
  "metadata": {
    "colab": {
      "provenance": []
    },
    "kernelspec": {
      "name": "python3",
      "display_name": "Python 3"
    },
    "language_info": {
      "name": "python"
    }
  },
  "cells": [
    {
      "cell_type": "markdown",
      "source": [
        "1. Define the z-statistic and explain its relationship to the standard normal distribution. How is the\n",
        "z-statistic used in hypothesis testing?"
      ],
      "metadata": {
        "id": "oxDaLtVc-KVg"
      }
    },
    {
      "cell_type": "markdown",
      "source": [
        "The z-statistic follows a standard normal distribution, which is a normal distribution with a mean of 0 and a standard deviation of 1. This allows for the calculation of probabilities and critical values from the standard normal distribution table (z-table). By transforming raw scores into z-scores, we can compare different data points on a common scale.\n",
        "\n",
        "Use in Hypothesis Testing\n",
        "\n",
        "Choose Significance Level: Select a significance level (\n",
        "𝛼\n",
        "α), commonly 0.05 or 0.01\n",
        "\n",
        "Collect Data and Compute the Z-Statistic: Gather sample data, calculate the sample mean, and then compute the z-statistic using the formula provided.\n",
        "\n",
        "Determine Critical Value(s): Using the z-table, find the critical z-value(s) corresponding to the chosen significance level"
      ],
      "metadata": {
        "id": "nph4KfWb-dE9"
      }
    },
    {
      "cell_type": "markdown",
      "source": [
        "2.  What is a p-value, and how is it used in hypothesis testing? What does it mean if the p-value is\n",
        "very small (e.g., 0.01)?"
      ],
      "metadata": {
        "id": "sMuYbIZI-x-u"
      }
    },
    {
      "cell_type": "markdown",
      "source": [
        "A p-value is a statistical measure that helps determine the strength of the evidence against the null hypothesis in hypothesis testing. The null hypothesis typically represents a default or baseline position, such as \"there is no effect\" or \"there is no difference\" between groups.\n",
        "\n",
        "A p-value of 0.01 means there is a 1% probability that the observed data (or something more extreme) would occur if the null hypothesis were true. This indicates strong evidence against the null hypothesis."
      ],
      "metadata": {
        "id": "dzjExNYm-4Et"
      }
    },
    {
      "cell_type": "markdown",
      "source": [
        "3.  Compare and contrast the binomial and Bernoulli distributions"
      ],
      "metadata": {
        "id": "mWv68ppP_fXP"
      }
    },
    {
      "cell_type": "markdown",
      "source": [
        "Bernoulli deals with the outcome of the single trial of the event, whereas Binomial deals with the outcome of the multiple trials of the single event.\n",
        "\n",
        "Bernoulli is used when the outcome of an event is required for only one time, whereas the Binomial is used when the outcome of an event is required multiple times."
      ],
      "metadata": {
        "id": "1WydHLaz_rat"
      }
    },
    {
      "cell_type": "markdown",
      "source": [
        "4. Under what conditions is the binomial distribution used, and how does it relate to the Bernoulli\n",
        "distribution?"
      ],
      "metadata": {
        "id": "pW3botnT_9-A"
      }
    },
    {
      "cell_type": "markdown",
      "source": [
        "Fixed Number of Trials: The number of trials,n, must be predetermined and fixed. Each trial is independent of the others.\n",
        "\n",
        "Binary Outcomes: Each trial must have only two possible outcomes, often referred to as \"success\" and \"failure.\"\n",
        "\n",
        "Constant Probability: The probability of success,p must remain constant across all trials. Consequently, the probability of failure is 1-p\n",
        "\n",
        "Independence: The outcome of each trial must be independent of the outcomes of other trials. The result of one trial does not affect the other\n",
        "\n",
        "Relation to Bernoulli distribution\n",
        "\n",
        "Single Trial Case: The Bernoulli distribution can be viewed as a special case of the binomial distribution when the number of trials n=1. In this context, the Bernoulli distribution models the outcome of a single trial with two outcomes (success or failure).\n",
        "\n",
        "Counting Successes: The binomial distribution counts the number of successes in\n",
        "n independent Bernoulli trials. Each trial is governed by the Bernoulli distribution with the same probability p"
      ],
      "metadata": {
        "id": "MF0NwvUuACUT"
      }
    },
    {
      "cell_type": "markdown",
      "source": [
        "5.  What are the key properties of the Poisson distribution, and when is it appropriate to use this\n",
        "distribution?"
      ],
      "metadata": {
        "id": "MQYmTwdmB0tW"
      }
    },
    {
      "cell_type": "markdown",
      "source": [
        "The key properties of the Poisson distribution are: events occur independently of each other, the average rate of events occurring within a given time frame is constant, and the probability of an event happening in a small time interval is proportional to the length of that interval; it's appropriate to use the Poisson distribution when you are modeling the number of occurrences of rare events within a fixed time period where the average rate of events is known and constant, like the number of phone calls received in an hour or the number of defects on a manufactured product."
      ],
      "metadata": {
        "id": "ffBYXeUwClOM"
      }
    },
    {
      "cell_type": "markdown",
      "source": [
        "6.  Define the terms \"probability distribution\" and \"probability density function\" (PDF). How does a\n",
        "PDF differ from a probability mass function (PMF)"
      ],
      "metadata": {
        "id": "9ZEfo3aGCsNa"
      }
    },
    {
      "cell_type": "markdown",
      "source": [
        "A probability distribution describes how the probabilities of a random variable are distributed over its possible values. It provides a complete description of the likelihood of various outcomes for that variable. Probability distributions can be discrete or continuous\n",
        "\n",
        "A probability density function (PDF) is a specific function associated with continuous probability distributions. The PDF describes the relative likelihood of the random variable taking on a particular value. Unlike probabilities for discrete variables, the value of a PDF at a specific point does not represent a probability; instead, the area under the curve of the PDF over an interval represents the probability that the random variable falls within that interval\n",
        "\n",
        "A probability mass function (PMF) is used for discrete random variables. It gives the probability that a discrete random variable is exactly equal to a specific value. The PMF assigns a probability to each possible outcome, and the sum of these probabilities for all possible outcomes must equal 1"
      ],
      "metadata": {
        "id": "T5o01tMQC26a"
      }
    },
    {
      "cell_type": "markdown",
      "source": [
        "7.  Explain the Central Limit Theorem (CLT) with example"
      ],
      "metadata": {
        "id": "wR2m5kF-DWjp"
      }
    },
    {
      "cell_type": "markdown",
      "source": [
        "The Central Limit Theorem (CLT) is a fundamental concept in statistics that describes the behavior of the sampling distribution of the sample mean. It states that, regardless of the shape of the population distribution, the distribution of the sample means will approach a normal distribution as the sample size increases, provided the samples are independent and identically distributed (i.i.d.)\n",
        "\n",
        "Example of the Central Limit Theorem\n",
        "Scenario: Suppose you have a population of adult heights in a certain city. The heights are not normally distributed (e.g., they might be skewed due to various factors)\n",
        "\n",
        "1. Population Parameters\n",
        "   Population mean :- 170cm\n",
        "   Population standard deviation:- 10cm\n",
        "\n",
        "2. Sampling: You randomly select samples of size n=30 from this population. You repeat this process many times (say, 1,000 times) and calculate the mean height for each sample   \n",
        "\n",
        "3. Sample Distribution\n",
        "   The distribution of these sample means will tend to be normally distributed as the number of samples increases, even though the original population distribution of heights is not normal\n",
        "\n",
        "   The mean of the sample means will be approximately equal to the population mean (170 cm)\n",
        "\n",
        "   he standard deviation of the sample means (often called the standard error) will be 1.83cm"
      ],
      "metadata": {
        "id": "nWYwqytjDjJQ"
      }
    },
    {
      "cell_type": "markdown",
      "source": [
        "8.  Compare z-scores and t-scores. When should you use a z-score, and when should a t-score be applied instead?"
      ],
      "metadata": {
        "id": "IMjxZbPSGTN7"
      }
    },
    {
      "cell_type": "markdown",
      "source": [
        "A z-score is used when the population standard deviation is known, typically with large sample sizes, while a t-score is used when the population standard deviation is unknown or when dealing with small sample sizes; essentially, use a z-score when you have more information about the population, and a t-score when you have less information and rely more heavily on the sample data\n",
        "\n",
        "Population Standard Deviation:\n",
        "\n",
        "The primary distinction is that a z-score calculation assumes you know the population standard deviation, while a t-score is used when you only have the sample standard deviation and need to estimate the population standard deviation.\n",
        "\n",
        "Distribution:\n",
        "\n",
        "A z-score follows a standard normal distribution, while a t-score follows a t-distribution, which has \"degrees of freedom\" depending on the sample size.\n",
        "\n",
        "Scenario:\n",
        "\n",
        "You want to compare the average height of students in a large class to the national average height. If you know the national average height and standard deviation, you would use a z-score to see how many standard deviations away from the national average the class average is.\n",
        "\n",
        "Scenario:\n",
        "\n",
        "You want to compare the average test score of a small group of students in a particular class to the overall class average, but you only have the data for that small group. In this case, you would use a t-score because you don't know the population standard deviation for the whole class."
      ],
      "metadata": {
        "id": "k7H95areHBHr"
      }
    },
    {
      "cell_type": "markdown",
      "source": [
        "9.  Given a sample mean of 105, a population mean of 100, a standard deviation of 15, and a sample\n",
        "size of 25, calculate the z-score and p-value. Based on a significance level of 0.05, do you reject or fail to\n",
        "reject the null hypothesis?\n",
        "\n",
        " Task: Write Python code to calculate the z-score and p-value for the given data.\n",
        "\n",
        "Objective: Apply the formula for the z-score and interpret the p-value for hypothesis testing."
      ],
      "metadata": {
        "id": "5QUMbcxpHoP7"
      }
    },
    {
      "cell_type": "code",
      "source": [
        "import scipy.stats as stats\n",
        "import numpy as np\n",
        "\n",
        "sample_mean = 105\n",
        "population_mean = 100\n",
        "std_dev = 15\n",
        "sample_size = 25\n",
        "\n",
        "z = (sample_mean - population_mean) / (std_dev / np.sqrt(sample_size))\n",
        "\n",
        "p_value = 2 * (1 - stats.norm.cdf(abs(z)))\n",
        "\n",
        "alpha = 0.05\n",
        "\n",
        "if p_value < alpha:\n",
        "    decision = \"Reject the null hypothesis.\"\n",
        "else:\n",
        "    decision = \"Fail to reject the null hypothesis.\"\n",
        "print(f\"Z-score: {z:.4f}\")\n",
        "print(f\"P-value: {p_value:.4f}\")\n",
        "print(decision)"
      ],
      "metadata": {
        "colab": {
          "base_uri": "https://localhost:8080/"
        },
        "id": "x9jF0bLfHrWp",
        "outputId": "82a76479-aee7-4e2b-c7ff-ab10272074ac"
      },
      "execution_count": 1,
      "outputs": [
        {
          "output_type": "stream",
          "name": "stdout",
          "text": [
            "Z-score: 1.6667\n",
            "P-value: 0.0956\n",
            "Fail to reject the null hypothesis.\n"
          ]
        }
      ]
    },
    {
      "cell_type": "markdown",
      "source": [
        "10. Simulate a binomial distribution with 10 trials and a probability of success of 0.6 using Python.\n",
        "Generate 1,000 samples and plot the distribution. What is the expected mean and variance?\n",
        "\n",
        "Task: Use Python to generate the data, plot the distribution, and calculate the mean and variance.\n",
        "\n",
        "Objective: Understand the properties of a binomial distribution and verify them through simulation"
      ],
      "metadata": {
        "id": "AkIuEhLkIFb7"
      }
    },
    {
      "cell_type": "code",
      "execution_count": 2,
      "metadata": {
        "colab": {
          "base_uri": "https://localhost:8080/",
          "height": 599
        },
        "id": "1WJZALCO92Uj",
        "outputId": "3e19ebc6-59ef-4be7-fc40-c5d18679bf26"
      },
      "outputs": [
        {
          "output_type": "display_data",
          "data": {
            "text/plain": [
              "<Figure size 1000x600 with 1 Axes>"
            ],
            "image/png": "[encoded data removed]"
          },
          "metadata": {}
        },
        {
          "output_type": "stream",
          "name": "stdout",
          "text": [
            "Expected Mean: 6.0\n",
            "Expected Variance: 2.4000000000000004\n"
          ]
        }
      ],
      "source": [
        "import numpy as np\n",
        "import matplotlib.pyplot as plt\n",
        "import seaborn as sns\n",
        "\n",
        "n_trials = 10\n",
        "p_success = 0.6\n",
        "n_samples = 1000\n",
        "samples = np.random.binomial(n_trials, p_success, n_samples)\n",
        "\n",
        "mean = n_trials * p_success\n",
        "variance = n_trials * p_success * (1 - p_success)\n",
        "\n",
        "plt.figure(figsize=(10, 6))\n",
        "sns.histplot(samples, bins=np.arange(-0.5, n_trials + 1.5, 1), kde=False, color='skyblue')\n",
        "plt.title('Binomial Distribution (n=10, p=0.6)')\n",
        "plt.xlabel('Number of Successes')\n",
        "plt.ylabel('Frequency')\n",
        "plt.xticks(range(n_trials + 1))\n",
        "plt.grid(axis='y', linestyle='--')\n",
        "plt.show()\n",
        "\n",
        "print(f\"Expected Mean: {mean}\")\n",
        "print(f\"Expected Variance: {variance}\")"
      ]
    }
  ]
}